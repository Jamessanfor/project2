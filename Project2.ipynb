{
  "cells": [
    {
      "cell_type": "code",
      "execution_count": null,
      "id": "cb27a496",
      "metadata": {
        "scrolled": false,
        "id": "cb27a496"
      },
      "outputs": [],
      "source": [
        "import pandas as pd\n",
        "import seaborn as sb\n",
        "import numpy as np\n",
        "import matplotlib.pyplot as plt\n",
        "from scipy import stats\n",
        "\n",
        "df = pd.read_csv('crime-housing-austin-2015.csv')\n",
        "#df.head()\n"
      ]
    },
    {
      "cell_type": "code",
      "execution_count": null,
      "id": "a6ad9d21",
      "metadata": {
        "scrolled": false,
        "id": "a6ad9d21"
      },
      "outputs": [],
      "source": [
        "crime=df['Highest_NIBRS_UCR_Offense_Description']\n",
        "v_crime=crime[(crime != 'Theft') | (crime != 'Auto Theft')]\n",
        "nv_crime= crime[(crime == 'Theft') | (crime == 'Auto Theft')] \n",
        "df['count']= df['Highest_NIBRS_UCR_Offense_Description'].isin(v_crime)\n",
        "zip_vcrime=df['Zip_Code_Crime'].unique() \n",
        "zip_vcrime = zip_vcrime[ zip_vcrime>0]\n",
        "#plt.figure()\n",
        "plt.show()\n",
        "#h = sb.histplot(data=df, x='Zip_Code_Housing' )\n",
        "\n",
        "his = sb.histplot(data=df, x='Zip_Code_Crime' )\n",
        "\n"
      ]
    },
    {
      "cell_type": "code",
      "execution_count": null,
      "id": "0d678206",
      "metadata": {
        "id": "0d678206"
      },
      "outputs": [],
      "source": [
        "terrible_places= df[(df.Zip_Code_Crime > 78700) & (df.Zip_Code_Crime < 78760) ]\n",
        "terrible_places= terrible_places.dropna()\n",
        "#print(terrible_places)\n",
        "#cleaning data\n",
        "\n",
        "terrible_places['Populationwithdisability']= terrible_places['Populationwithdisability'].str.replace(r'\\D','')\n",
        "terrible_places['Populationbelowpovertylevel']= terrible_places['Populationbelowpovertylevel'].str.replace(r'\\D','')\n",
        "terrible_places['Non-WhiteNon-HispanicorLatino']= terrible_places['Non-WhiteNon-HispanicorLatino'].str.replace(r'\\D','')\n",
        "terrible_places['HispanicorLatinoofanyrace']= terrible_places['HispanicorLatinoofanyrace'].str.replace(r'\\D','')\n",
        "terrible_places['Unemployment']= terrible_places['Unemployment'].str.replace(r'\\D','')\n",
        "terrible_places['Largehouseholds(5+members)']= terrible_places['Largehouseholds(5+members)'].str.replace(r'\\D','')\n",
        "terrible_places['Homesaffordabletopeopleearninglessthan$50000']= terrible_places['Homesaffordabletopeopleearninglessthan$50000'].str.replace(r'\\D','')\n",
        "terrible_places['Averagemonthlytransportationcost']= terrible_places['Averagemonthlytransportationcost'].str.replace(r'\\D','')\n",
        "\n",
        "terrible_places['Medianhouseholdincome']= terrible_places['Medianhouseholdincome'].str.replace(r'\\D','')\n",
        "terrible_places['Medianrent']= terrible_places['Medianrent'].str.replace(r'\\D','')\n",
        "terrible_places['Medianhomevalue']= terrible_places['Medianhomevalue'].str.replace(r'\\D','')\n",
        "terrible_places['Averagemonthlytransportationcost']= terrible_places['Averagemonthlytransportationcost'].str.replace(r'\\D','')\n",
        "\n",
        "\n",
        "\n",
        "#cast int\n",
        "terrible_places.Zip_Code_Crime = terrible_places.Zip_Code_Crime.astype('float')\n",
        "terrible_places.Populationwithdisability = terrible_places.Populationwithdisability.astype('float')\n",
        "terrible_places.Populationbelowpovertylevel = terrible_places.Populationbelowpovertylevel.astype('float')\n",
        "terrible_places['NonWhiteNonHispanicorLatino'] = terrible_places['Non-WhiteNon-HispanicorLatino']\n",
        "terrible_places.NonWhiteNonHispanicorLatino = terrible_places.NonWhiteNonHispanicorLatino.astype('float')\n",
        "terrible_places.HispanicorLatinoofanyrace = terrible_places.HispanicorLatinoofanyrace.astype('float')\n",
        "terrible_places.Unemployment = terrible_places.Unemployment.astype('float')\n",
        "terrible_places['Largehouseholds'] = terrible_places['Largehouseholds(5+members)']\n",
        "terrible_places.Largehouseholds = terrible_places.Largehouseholds.astype('float')\n",
        "terrible_places['Homesaffordabletopeopleearninglessthan50k'] = terrible_places['Homesaffordabletopeopleearninglessthan$50000']\n",
        "terrible_places.Homesaffordabletopeopleearninglessthan50k = terrible_places.Homesaffordabletopeopleearninglessthan50k.astype('float')\n",
        "terrible_places.Averagemonthlytransportationcost = terrible_places.Averagemonthlytransportationcost.astype('float')\n",
        "\n",
        "\n",
        "terrible_places.Medianhouseholdincome = terrible_places.Medianhouseholdincome.astype('float')\n",
        "terrible_places.Medianrent = terrible_places.Medianrent.astype('float')\n",
        "terrible_places.Medianhomevalue = terrible_places.Medianhomevalue.astype('float')\n",
        "terrible_places.Averagemonthlytransportationcost = terrible_places.Averagemonthlytransportationcost.astype('float')\n",
        "\n",
        "\n",
        "\n",
        "\n",
        "\n",
        "\n",
        "\n",
        "\n",
        "\n",
        "#print(terrible_places.HispanicorLatinoofanyrace)\n"
      ]
    },
    {
      "cell_type": "code",
      "execution_count": null,
      "id": "dccde27c",
      "metadata": {
        "scrolled": false,
        "id": "dccde27c"
      },
      "outputs": [],
      "source": [
        "\n",
        "sb.scatterplot(data=terrible_places, y= 'Populationwithdisability',x='HispanicorLatinoofanyrace')\n",
        "sb.lineplot(data=terrible_places, y= 'Populationwithdisability',x='HispanicorLatinoofanyrace')\n",
        "#his = sb.histplot(data=terrible_places, x='Populationbelowpovertylevel',  )\n",
        "#sb.barplot(terrible_places, x='Populationbelowpovertylevel',y='Zip_Code_Crime')\n",
        "\n",
        "\n",
        "a,u1= stats.ttest_ind(terrible_places.Populationwithdisability, terrible_places.HispanicorLatinoofanyrace )\n",
        "print(a,u1)\n",
        "\n",
        "\n"
      ]
    },
    {
      "cell_type": "code",
      "execution_count": null,
      "id": "155ca0b4",
      "metadata": {
        "id": "155ca0b4"
      },
      "outputs": [],
      "source": [
        "sb.scatterplot(data=terrible_places, y= 'Populationwithdisability', x='NonWhiteNonHispanicorLatino')\n",
        "sb.lineplot(data=terrible_places, y= 'Populationwithdisability', x='NonWhiteNonHispanicorLatino')\n",
        "\n",
        "\n",
        "u1= stats.ttest_ind(terrible_places.Populationwithdisability, terrible_places.NonWhiteNonHispanicorLatino )\n",
        "print(u1)\n",
        "\n",
        "\n"
      ]
    },
    {
      "cell_type": "code",
      "execution_count": null,
      "id": "1edfcc84",
      "metadata": {
        "id": "1edfcc84"
      },
      "outputs": [],
      "source": [
        "sb.scatterplot(data=terrible_places, y= 'Populationwithdisability',x='Populationbelowpovertylevel')\n",
        "sb.lineplot(data=terrible_places, y= 'Populationwithdisability',x='Populationbelowpovertylevel')\n",
        "\n",
        "u1= stats.ttest_ind(terrible_places.Populationwithdisability, terrible_places.Populationbelowpovertylevel )\n",
        "print(u1)\n",
        "\n"
      ]
    },
    {
      "cell_type": "code",
      "execution_count": null,
      "id": "a0eb3628",
      "metadata": {
        "id": "a0eb3628"
      },
      "outputs": [],
      "source": [
        "sb.scatterplot(data=terrible_places, y= 'Populationwithdisability',x='Unemployment')\n",
        "sb.lineplot(data=terrible_places, y= 'Populationwithdisability',x='Unemployment')\n",
        "tp= terrible_places[ ((terrible_places['Unemployment'] != 14) & (terrible_places['Populationwithdisability'] != 4 )) ]\n",
        "\n",
        "#g= sb.lmplot(data = tp, y= 'Unemployment', x='Populationwithdisability', height=10)\n",
        "\n",
        "\n",
        "#g.set_axis_labels(\"Population with disability(%)\", \"Unemployment(%)\" )\n",
        "\n",
        "\n",
        "u1= stats.ttest_ind(terrible_places.Unemployment, terrible_places.Populationwithdisability )\n",
        "print(u1)\n"
      ]
    },
    {
      "cell_type": "code",
      "execution_count": null,
      "id": "38638735",
      "metadata": {
        "id": "38638735"
      },
      "outputs": [],
      "source": [
        "sb.scatterplot(data=terrible_places, y= 'Populationwithdisability', x='Largehouseholds')\n",
        "sb.lineplot(data=terrible_places, y= 'Populationwithdisability', x='Largehouseholds')\n",
        "u1= stats.ttest_ind(terrible_places.Largehouseholds, terrible_places.Populationwithdisability )\n",
        "print(u1)\n",
        "\n"
      ]
    },
    {
      "cell_type": "code",
      "execution_count": null,
      "id": "30c629c7",
      "metadata": {
        "scrolled": false,
        "id": "30c629c7"
      },
      "outputs": [],
      "source": [
        "#sb.scatterplot(data=terrible_places, y= 'Populationwithdisability', x='Medianhouseholdincome')\n",
        "#sb.lineplot(data=terrible_places, y= 'Populationwithdisability', x='Medianhouseholdincome')\n",
        "\n",
        "sb.lmplot(data = terrible_places, y= 'Populationwithdisability', x='Medianhouseholdincome')\n",
        "\n",
        "\n",
        "u1= stats.ttest_ind(terrible_places.Medianhouseholdincome, terrible_places.Populationwithdisability )\n",
        "print(u1)\n",
        "\n"
      ]
    },
    {
      "cell_type": "code",
      "execution_count": null,
      "id": "5fa7e076",
      "metadata": {
        "id": "5fa7e076"
      },
      "outputs": [],
      "source": [
        "sb.scatterplot(data=terrible_places, y= 'Populationwithdisability', x='Medianrent')\n",
        "sb.lineplot(data=terrible_places, y= 'Populationwithdisability', x='Medianrent')\n",
        "\n",
        "#sb.lmplot(data = terrible_places, y= 'Populationwithdisability', x='Medianrent')\n",
        "\n",
        "\n",
        "a,u1= stats.ttest_ind(terrible_places.Populationwithdisability, terrible_places.Medianrent )\n",
        "print(a,u1)\n",
        "\n",
        "\n"
      ]
    },
    {
      "cell_type": "code",
      "execution_count": null,
      "id": "828b5422",
      "metadata": {
        "id": "828b5422"
      },
      "outputs": [],
      "source": [
        "sb.scatterplot(data=terrible_places, y= 'Populationwithdisability', x='Medianhomevalue')\n",
        "sb.lineplot(data=terrible_places, y= 'Populationwithdisability', x='Medianhomevalue')\n",
        "\n",
        "#sb.lmplot(data = terrible_places, y= 'Populationwithdisability', x='Medianhomevalue', height=10)\n",
        "\n",
        "u1= stats.ttest_ind(terrible_places.Populationwithdisability, terrible_places.Medianhomevalue )\n",
        "print(u1)\n",
        "\n"
      ]
    },
    {
      "cell_type": "code",
      "execution_count": null,
      "id": "57c47c77",
      "metadata": {
        "id": "57c47c77"
      },
      "outputs": [],
      "source": []
    },
    {
      "cell_type": "code",
      "execution_count": null,
      "id": "d6645a24",
      "metadata": {
        "id": "d6645a24"
      },
      "outputs": [],
      "source": [
        "crime= terrible_places.Highest_NIBRS_UCR_Offense_Description.unique()\n",
        "badzip= terrible_places.Zip_Code_Crime.unique()\n",
        "crime_by_zip= terrible_places.groupby(['Zip_Code_Crime', 'Highest_NIBRS_UCR_Offense_Description' ]).size()\n",
        "display(crime_by_zip)\n",
        "sb.histplot(data=crime_by_zip, x='Highest_NIBRS_UCR_Offense_Description' )\n",
        "\n",
        "\n",
        "\n",
        "\n",
        "#sb.histplot(data=terrible_places, y='Highest_Offense_Desc' )\n",
        "#terrible_places.HispanicorLatinoofanyrace\n"
      ]
    },
    {
      "cell_type": "code",
      "execution_count": null,
      "id": "0a4f97d8",
      "metadata": {
        "id": "0a4f97d8"
      },
      "outputs": [],
      "source": [
        "\n",
        "sb.histplot(data=crime_by_zip, x='Highest_NIBRS_UCR_Offense_Description' )\n",
        "\n"
      ]
    },
    {
      "cell_type": "code",
      "execution_count": null,
      "id": "ff4d589d",
      "metadata": {
        "id": "ff4d589d"
      },
      "outputs": [],
      "source": [
        "sb.scatterplot(data=terrible_places, y= 'Unemployment',x='HispanicorLatinoofanyrace')\n",
        "sb.lineplot(data=terrible_places, y= 'Unemployment',x='HispanicorLatinoofanyrace')\n",
        "a,u1= stats.ttest_ind(terrible_places.Unemployment, terrible_places.HispanicorLatinoofanyrace )\n",
        "print(a,u1)\n"
      ]
    },
    {
      "cell_type": "code",
      "execution_count": null,
      "id": "235ebaca",
      "metadata": {
        "id": "235ebaca"
      },
      "outputs": [],
      "source": [
        "#sb.scatterplot(data=terrible_places, y= 'Unemployment',x='Populationbelowpovertylevel')\n",
        "#sb.lineplot(data=terrible_places, y= 'Unemployment',x='Populationbelowpovertylevel')\n",
        "\n",
        "g= sb.lmplot(data = terrible_places, y= 'Unemployment', x='Populationbelowpovertylevel', height=10)\n",
        "\n",
        "g.set_axis_labels(\" Population below poverty level(%)\", \"Unemployment(%)\" )\n",
        "\n",
        "\n",
        "u1= stats.ttest_ind(terrible_places.Unemployment, terrible_places.Populationbelowpovertylevel )\n",
        "print(u1)\n"
      ]
    },
    {
      "cell_type": "code",
      "execution_count": null,
      "id": "8d494847",
      "metadata": {
        "scrolled": false,
        "id": "8d494847"
      },
      "outputs": [],
      "source": [
        "sb.scatterplot(data=terrible_places, y= 'Populationbelowpovertylevel',x='Largehouseholds')\n",
        "sb.lineplot(data=terrible_places, y= 'Populationbelowpovertylevel',x='Largehouseholds')\n",
        "a,u1= stats.ttest_ind(terrible_places.Unemployment, terrible_places.Largehouseholds )\n",
        "print(a,u1)\n"
      ]
    },
    {
      "cell_type": "code",
      "execution_count": null,
      "id": "a759610a",
      "metadata": {
        "id": "a759610a"
      },
      "outputs": [],
      "source": [
        "sb.scatterplot(data=terrible_places, y= 'Populationwithdisability',x='HispanicorLatinoofanyrace')\n",
        "sb.lineplot(data=terrible_places, y= 'Populationwithdisability',x='HispanicorLatinoofanyrace')\n",
        "a,u1= stats.ttest_ind(terrible_places.Populationwithdisability, terrible_places.HispanicorLatinoofanyrace )\n",
        "print(a,u1)\n"
      ]
    },
    {
      "cell_type": "code",
      "execution_count": null,
      "id": "6df7e795",
      "metadata": {
        "id": "6df7e795"
      },
      "outputs": [],
      "source": [
        "from scipy.stats import t\n",
        "import matplotlib.pyplot as plt\n",
        "fig, ax = plt.subplots(1, 1)\n",
        "\n",
        "df = 2.74335149908\n",
        "mean, var, skew, kurt = t.stats(df, moments='mvsk')\n",
        "x = np.linspace(t.ppf(0.01, df), t.ppf(0.99, df), 100)\n",
        "ax.plot(x, t.pdf(x, df), 'k-', lw=2, alpha=0.6, label='t pdf')\n",
        "ax.set_title('t pdf')\n",
        "\n"
      ]
    },
    {
      "cell_type": "code",
      "source": [
        "data = pd.read_csv(\"crime-housing-austin-2015.csv\")\n",
        "data=  data.dropna(subset=[\"Zip_Code_Crime\"]) \n",
        "data=  data.dropna(subset=[\"Percentageofhomeswithin1/4-mioftransitstop\"]) "
      ],
      "metadata": {
        "id": "PBFTM8YmDwWm"
      },
      "id": "PBFTM8YmDwWm",
      "execution_count": null,
      "outputs": []
    },
    {
      "cell_type": "code",
      "source": [
        "#Separated by Zip code\n",
        "allcrime = {}\n",
        "for zipcode in data.Zip_Code_Crime.unique():\n",
        "   allcrime[zipcode] = {}\n",
        "   location = data.loc[data['Zip_Code_Crime'] == zipcode]\n",
        "   for crime in data.Highest_Offense_Desc.unique():\n",
        "       allcrime[zipcode][crime] = 0\n",
        "   for index, row in location.iterrows():\n",
        "      crime = row['Highest_Offense_Desc']\n",
        "      if crime in allcrime[zipcode]:\n",
        "        allcrime[zipcode][crime] +=1"
      ],
      "metadata": {
        "id": "zvdTOI0KD1bf"
      },
      "id": "zvdTOI0KD1bf",
      "execution_count": null,
      "outputs": []
    },
    {
      "cell_type": "code",
      "source": [
        "#Separated by Zip Code\n",
        "total_crime = {}\n",
        "for crime in data.Highest_Offense_Desc.unique():\n",
        "       total_crime[crime] = 0\n",
        "for index, row in data.iterrows():\n",
        "      crime = row['Highest_Offense_Desc']\n",
        "      total_crime[crime] +=1  \n",
        "\n",
        "names = list(allcrime[zipcode].keys())\n",
        "values = list(total_crime.values())\n",
        "\n",
        "plt.title(\"Agregate Crime across 2015\")\n",
        "plt.xticks(rotation = 90)\n",
        "plt.bar(names, values)\n",
        "plt.show()\n"
      ],
      "metadata": {
        "id": "6Xk-hRa8EBPV"
      },
      "id": "6Xk-hRa8EBPV",
      "execution_count": null,
      "outputs": []
    },
    {
      "cell_type": "code",
      "source": [
        "common_crime = {\"BURGLARY OF VEHICLE\" : 0, \"THEFT\" : 0, \"THEFT BY SHOPLIFTING\" : 0, \"THEFT OF VEHICLE/OTHER\" :0, \"ROBBERY BY ASSAULT\" : 0} #added this after it was clear that only a few crimes were most popular overall\n",
        "for zipcode in allcrime.keys():\n",
        "  names = list(allcrime[zipcode].keys())\n",
        "  plt.rcParams[\"figure.figsize\"] = (20,3) #makes a not squished graph \n",
        "  values = list(allcrime[zipcode].values())\n",
        "  common_crime[max(allcrime[zipcode], key=allcrime[zipcode].get)] +=1\n",
        "  print(max(allcrime[zipcode], key=allcrime[zipcode].get), \" \" , allcrime[zipcode][max(allcrime[zipcode], key=allcrime[zipcode].get)] )\n",
        "  plt.title(\"Agregate Crime in \" + str(int(zipcode)))\n",
        "  plt.xticks(rotation = 90)\n",
        "  plt.bar(names, values)\n",
        "  plt.show()\n",
        "print(common_crime)"
      ],
      "metadata": {
        "id": "w4M3AFuDEL9e"
      },
      "id": "w4M3AFuDEL9e",
      "execution_count": null,
      "outputs": []
    },
    {
      "cell_type": "code",
      "source": [
        "import math\n"
      ],
      "metadata": {
        "id": "-1rCDDhKEQie"
      },
      "id": "-1rCDDhKEQie",
      "execution_count": null,
      "outputs": []
    },
    {
      "cell_type": "code",
      "source": [
        "import seaborn as sns\n",
        "from scipy import stats\n"
      ],
      "metadata": {
        "id": "Oo2TkIQhESWm"
      },
      "id": "Oo2TkIQhESWm",
      "execution_count": null,
      "outputs": []
    },
    {
      "cell_type": "code",
      "source": [
        "ct = []\n",
        "cta = []\n",
        "for zipcode in allcrime.keys():\n",
        "    #filters out outlier regions with basically no crime reported\n",
        "    if  allcrime[zipcode][max(allcrime[zipcode], key=allcrime[zipcode].get)] > 5:\n",
        "      location = data.loc[data['Zip_Code_Crime'] == zipcode].dropna()\n",
        "      location['Percentageofhomeswithin1/4-mioftransitstop'] = location['Percentageofhomeswithin1/4-mioftransitstop'].str.replace('%', '').astype('float')\n",
        "      \n",
        "      trans =  location[\"Percentageofhomeswithin1/4-mioftransitstop\"].mean()\n",
        "      if math.isnan(trans) == False:\n",
        "        ct.append(trans)\n",
        "        cta.append(allcrime[zipcode][\"THEFT\"])\n",
        "\n",
        "attempt = {'Percentage of Homes Within a Quarter Mile of a Transit Stop': ct,\n",
        "        'Aggregate Cases of Theft in each Zip Code': cta}\n",
        "frame = pd.DataFrame(attempt)\n",
        "plt.rcParams[\"figure.figsize\"] = (5,5)\n",
        "sns.regplot(data=frame, x='Percentage of Homes Within a Quarter Mile of a Transit Stop', y='Aggregate Cases of Theft in each Zip Code')\n"
      ],
      "metadata": {
        "id": "nLNibfiSEc5G"
      },
      "id": "nLNibfiSEc5G",
      "execution_count": null,
      "outputs": []
    },
    {
      "cell_type": "code",
      "source": [
        "(r,p) = stats.pearsonr(ct, cta)\n",
        "print('r =', r, 'p =', p)"
      ],
      "metadata": {
        "id": "9sDVsCadEhSm"
      },
      "id": "9sDVsCadEhSm",
      "execution_count": null,
      "outputs": []
    },
    {
      "cell_type": "code",
      "source": [
        "ct = []\n",
        "cta = []\n",
        "for zipcode in allcrime.keys():\n",
        "    #filters out outlier regions with basically no crime reported\n",
        "    if  allcrime[zipcode][max(allcrime[zipcode], key=allcrime[zipcode].get)] > 5:\n",
        "      location = data.loc[data['Zip_Code_Crime'] == zipcode].dropna()\n",
        "      location['Medianhomevalue'] = location['Medianhomevalue'].str.replace('$', '').astype('float')\n",
        "      \n",
        "      trans =  location[\"Medianhomevalue\"].mean()\n",
        "      if math.isnan(trans) == False:\n",
        "        ct.append(trans)\n",
        "        cta.append(allcrime[zipcode][\"BURGLARY OF VEHICLE\"]) #Change to whatever Crime you want to Investigate\n",
        "\n",
        "attempt = {'Median home value': ct,\n",
        "        'Total Car Theft In Given ZipCode': cta}\n",
        "frame = pd.DataFrame(attempt)\n",
        "sns.regplot(data=frame, x='Median home value', y='Total Car Theft In Given ZipCode')"
      ],
      "metadata": {
        "id": "RaIHI_SJEiq4"
      },
      "id": "RaIHI_SJEiq4",
      "execution_count": null,
      "outputs": []
    },
    {
      "cell_type": "code",
      "source": [
        "(r,p) = stats.pearsonr(ct, cta)\n",
        "print('r =', r, 'p =', p)"
      ],
      "metadata": {
        "id": "q2yjXnfpEx4O"
      },
      "id": "q2yjXnfpEx4O",
      "execution_count": null,
      "outputs": []
    },
    {
      "cell_type": "code",
      "source": [
        "ct = []\n",
        "cta = []\n",
        "for zipcode in allcrime.keys():\n",
        "    #filters out outlier regions with basically no crime reported\n",
        "    if  allcrime[zipcode][max(allcrime[zipcode], key=allcrime[zipcode].get)] > 5:\n",
        "      location = data.loc[data['Zip_Code_Crime'] == zipcode].dropna()\n",
        "      location['Averagemonthlytransportationcost'] = location['Averagemonthlytransportationcost'].str.replace('$', '').astype('float')\n",
        "      \n",
        "      trans =  location[\"Averagemonthlytransportationcost\"].mean()\n",
        "      if math.isnan(trans) == False:\n",
        "        ct.append(trans)\n",
        "        cta.append(allcrime[zipcode][\"THEFT\"]) #Change to whatever Crime you want to Investigate\n",
        "\n",
        "attempt = {'Average Monthly Cost of Transport': ct,\n",
        "        'Total Theft In Given ZipCode': cta}\n",
        "frame = pd.DataFrame(attempt)\n",
        "sns.regplot(data=frame, x='Average Monthly Cost of Transport', y='Total Theft In Given ZipCode')"
      ],
      "metadata": {
        "id": "qibzIAR_E03v"
      },
      "id": "qibzIAR_E03v",
      "execution_count": null,
      "outputs": []
    },
    {
      "cell_type": "code",
      "source": [
        "(r,p) = stats.pearsonr(ct, cta)\n",
        "print('r =', r, 'p =', p)"
      ],
      "metadata": {
        "id": "2IKTCKcdE339"
      },
      "id": "2IKTCKcdE339",
      "execution_count": null,
      "outputs": []
    }
  ],
  "metadata": {
    "kernelspec": {
      "display_name": "Python 3 (ipykernel)",
      "language": "python",
      "name": "python3"
    },
    "language_info": {
      "codemirror_mode": {
        "name": "ipython",
        "version": 3
      },
      "file_extension": ".py",
      "mimetype": "text/x-python",
      "name": "python",
      "nbconvert_exporter": "python",
      "pygments_lexer": "ipython3",
      "version": "3.9.13"
    },
    "colab": {
      "provenance": []
    }
  },
  "nbformat": 4,
  "nbformat_minor": 5
}